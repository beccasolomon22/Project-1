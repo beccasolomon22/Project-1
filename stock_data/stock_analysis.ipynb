{
 "cells": [
  {
   "cell_type": "code",
   "execution_count": 1,
   "id": "9b1e82a7",
   "metadata": {},
   "outputs": [],
   "source": [
    "import requests\n",
    "import json\n",
    "import pandas as pd\n",
    "import matplotlib.pyplot as plt\n",
    "import scipy.stats as st\n",
    "import numpy as np\n",
    "\n",
    "# fb = [value for value in fb_yc['Yearly_Change']]\n",
    "# tw =[value for value in tw_yc['Yearly_Change']]\n",
    "# sc =[value for value in sc_yc['Yearly_Change']]\n",
    "# pin = [value for value in pin_yc['Yearly_Change']]\n",
    "# et = [value for value in et_yc['Yearly_Change']]\n",
    "\n",
    "# Ticker = ['FACEBOOK', 'TWITTER', 'SNAPCHAT', 'PINTEREST', 'ETSY']\n",
    "\n",
    "# index = [year for year in fb_yc['Year']]\n",
    "# df = pd.DataFrame({'FACEBOOK': fb,\n",
    "#                    'TWITTER': tw,\n",
    "#                    'SNAPCHAT': sc,\n",
    "#                    'PINTEREST': pin,\n",
    "#                    'ETSY': et}, index=index)\n",
    "# ax = df.plot.bar(rot=45)\n",
    "\n",
    "\n",
    "\n",
    "# Using graph_objects\n",
    "# import plotly.graph_objects as go\n",
    "\n",
    "\n",
    "# fig = go.Figure([go.Scatter(x=sc_stock['Date'], y=sc_stock['Adj Close'])])\n",
    "\n",
    "# fig.show()"
   ]
  },
  {
   "cell_type": "code",
   "execution_count": 2,
   "id": "7efc73ea",
   "metadata": {},
   "outputs": [],
   "source": [
    "sm_stock = pd.read_csv(\"../Resources/social media stocks 2012-2022.csv\")"
   ]
  },
  {
   "cell_type": "code",
   "execution_count": 3,
   "id": "e4f5d62f",
   "metadata": {},
   "outputs": [],
   "source": [
    "sm_stock['Year'] = pd.to_datetime(sm_stock['Date']).dt.strftime('%Y')"
   ]
  },
  {
   "cell_type": "code",
   "execution_count": 4,
   "id": "6b6b08c6",
   "metadata": {},
   "outputs": [],
   "source": [
    "fb_stock = sm_stock[sm_stock['Symbol']=='FB']"
   ]
  },
  {
   "cell_type": "code",
   "execution_count": 5,
   "id": "61b0cac4",
   "metadata": {},
   "outputs": [],
   "source": [
    "tw_stock = sm_stock[sm_stock['Symbol']=='TWTR']"
   ]
  },
  {
   "cell_type": "code",
   "execution_count": 6,
   "id": "affe6b36",
   "metadata": {},
   "outputs": [],
   "source": [
    "pin_stock = sm_stock[sm_stock['Symbol']=='PINS']"
   ]
  },
  {
   "cell_type": "code",
   "execution_count": 7,
   "id": "125c6b12",
   "metadata": {},
   "outputs": [],
   "source": [
    "et_stock = sm_stock[sm_stock['Symbol']=='ETSY']"
   ]
  },
  {
   "cell_type": "code",
   "execution_count": 8,
   "id": "6862b91e",
   "metadata": {},
   "outputs": [],
   "source": [
    "sc_stock = sm_stock[sm_stock['Symbol']=='SNAP']"
   ]
  },
  {
   "cell_type": "code",
   "execution_count": 9,
   "id": "f607c40c",
   "metadata": {},
   "outputs": [],
   "source": [
    "sc_stock_clean = sc_stock[['Date','Symbol', 'Adj Close', 'Volume', 'Year']].copy()"
   ]
  },
  {
   "cell_type": "code",
   "execution_count": 10,
   "id": "d0b81c1a",
   "metadata": {},
   "outputs": [],
   "source": [
    "et_stock_clean = et_stock[['Date','Symbol', 'Adj Close', 'Volume', 'Year']].copy()"
   ]
  },
  {
   "cell_type": "code",
   "execution_count": 11,
   "id": "b6b101fc",
   "metadata": {},
   "outputs": [],
   "source": [
    "pin_stock_clean = pin_stock[['Date','Symbol', 'Adj Close', 'Volume', 'Year']].copy()"
   ]
  },
  {
   "cell_type": "code",
   "execution_count": 12,
   "id": "1f2c1975",
   "metadata": {},
   "outputs": [],
   "source": [
    "tw_stock_clean = tw_stock[['Date','Symbol', 'Adj Close', 'Volume', 'Year']].copy()\n"
   ]
  },
  {
   "cell_type": "code",
   "execution_count": 13,
   "id": "6bdb7a5c",
   "metadata": {},
   "outputs": [],
   "source": [
    "fb_stock_clean = fb_stock[['Date','Symbol', 'Adj Close', 'Volume', 'Year']].copy()\n"
   ]
  },
  {
   "cell_type": "code",
   "execution_count": 14,
   "id": "469f41a2",
   "metadata": {},
   "outputs": [
    {
     "data": {
      "text/html": [
       "<div>\n",
       "<style scoped>\n",
       "    .dataframe tbody tr th:only-of-type {\n",
       "        vertical-align: middle;\n",
       "    }\n",
       "\n",
       "    .dataframe tbody tr th {\n",
       "        vertical-align: top;\n",
       "    }\n",
       "\n",
       "    .dataframe thead th {\n",
       "        text-align: right;\n",
       "    }\n",
       "</style>\n",
       "<table border=\"1\" class=\"dataframe\">\n",
       "  <thead>\n",
       "    <tr style=\"text-align: right;\">\n",
       "      <th></th>\n",
       "      <th>Date</th>\n",
       "      <th>Symbol</th>\n",
       "      <th>Adj Close</th>\n",
       "      <th>Volume</th>\n",
       "      <th>Year</th>\n",
       "    </tr>\n",
       "  </thead>\n",
       "  <tbody>\n",
       "    <tr>\n",
       "      <th>0</th>\n",
       "      <td>2012-05-18</td>\n",
       "      <td>FB</td>\n",
       "      <td>38.230000</td>\n",
       "      <td>573576400.0</td>\n",
       "      <td>2012</td>\n",
       "    </tr>\n",
       "    <tr>\n",
       "      <th>1</th>\n",
       "      <td>2012-05-21</td>\n",
       "      <td>FB</td>\n",
       "      <td>34.029999</td>\n",
       "      <td>168192700.0</td>\n",
       "      <td>2012</td>\n",
       "    </tr>\n",
       "    <tr>\n",
       "      <th>2</th>\n",
       "      <td>2012-05-22</td>\n",
       "      <td>FB</td>\n",
       "      <td>31.000000</td>\n",
       "      <td>101786600.0</td>\n",
       "      <td>2012</td>\n",
       "    </tr>\n",
       "    <tr>\n",
       "      <th>3</th>\n",
       "      <td>2012-05-23</td>\n",
       "      <td>FB</td>\n",
       "      <td>32.000000</td>\n",
       "      <td>73600000.0</td>\n",
       "      <td>2012</td>\n",
       "    </tr>\n",
       "    <tr>\n",
       "      <th>4</th>\n",
       "      <td>2012-05-24</td>\n",
       "      <td>FB</td>\n",
       "      <td>33.029999</td>\n",
       "      <td>50237200.0</td>\n",
       "      <td>2012</td>\n",
       "    </tr>\n",
       "    <tr>\n",
       "      <th>...</th>\n",
       "      <td>...</td>\n",
       "      <td>...</td>\n",
       "      <td>...</td>\n",
       "      <td>...</td>\n",
       "      <td>...</td>\n",
       "    </tr>\n",
       "    <tr>\n",
       "      <th>8373</th>\n",
       "      <td>2022-03-31</td>\n",
       "      <td>FB</td>\n",
       "      <td>222.360001</td>\n",
       "      <td>24192300.0</td>\n",
       "      <td>2022</td>\n",
       "    </tr>\n",
       "    <tr>\n",
       "      <th>8378</th>\n",
       "      <td>2022-04-01</td>\n",
       "      <td>FB</td>\n",
       "      <td>224.850006</td>\n",
       "      <td>19533300.0</td>\n",
       "      <td>2022</td>\n",
       "    </tr>\n",
       "    <tr>\n",
       "      <th>8383</th>\n",
       "      <td>2022-04-04</td>\n",
       "      <td>FB</td>\n",
       "      <td>233.889999</td>\n",
       "      <td>28054800.0</td>\n",
       "      <td>2022</td>\n",
       "    </tr>\n",
       "    <tr>\n",
       "      <th>8388</th>\n",
       "      <td>2022-04-05</td>\n",
       "      <td>FB</td>\n",
       "      <td>231.839996</td>\n",
       "      <td>29727200.0</td>\n",
       "      <td>2022</td>\n",
       "    </tr>\n",
       "    <tr>\n",
       "      <th>8393</th>\n",
       "      <td>2022-04-06</td>\n",
       "      <td>FB</td>\n",
       "      <td>223.300003</td>\n",
       "      <td>28969100.0</td>\n",
       "      <td>2022</td>\n",
       "    </tr>\n",
       "  </tbody>\n",
       "</table>\n",
       "<p>2488 rows × 5 columns</p>\n",
       "</div>"
      ],
      "text/plain": [
       "            Date Symbol   Adj Close       Volume  Year\n",
       "0     2012-05-18     FB   38.230000  573576400.0  2012\n",
       "1     2012-05-21     FB   34.029999  168192700.0  2012\n",
       "2     2012-05-22     FB   31.000000  101786600.0  2012\n",
       "3     2012-05-23     FB   32.000000   73600000.0  2012\n",
       "4     2012-05-24     FB   33.029999   50237200.0  2012\n",
       "...          ...    ...         ...          ...   ...\n",
       "8373  2022-03-31     FB  222.360001   24192300.0  2022\n",
       "8378  2022-04-01     FB  224.850006   19533300.0  2022\n",
       "8383  2022-04-04     FB  233.889999   28054800.0  2022\n",
       "8388  2022-04-05     FB  231.839996   29727200.0  2022\n",
       "8393  2022-04-06     FB  223.300003   28969100.0  2022\n",
       "\n",
       "[2488 rows x 5 columns]"
      ]
     },
     "execution_count": 14,
     "metadata": {},
     "output_type": "execute_result"
    }
   ],
   "source": [
    "fb_stock_clean.sort_values(['Date'],\n",
    "              ascending = True)"
   ]
  },
  {
   "cell_type": "code",
   "execution_count": 15,
   "id": "7846f65e",
   "metadata": {},
   "outputs": [],
   "source": [
    "sc_stock_17 = sc_stock[sc_stock['Year']=='2017']\n",
    "sc_stock_17.reset_index(drop=True, inplace=True)"
   ]
  },
  {
   "cell_type": "code",
   "execution_count": 16,
   "id": "9e4d52a7",
   "metadata": {},
   "outputs": [],
   "source": [
    "sc_stock_18 = sc_stock[sc_stock['Year']=='2018']\n",
    "sc_stock_18.reset_index(drop=True, inplace=True)"
   ]
  },
  {
   "cell_type": "code",
   "execution_count": 17,
   "id": "8294d07c",
   "metadata": {},
   "outputs": [],
   "source": [
    "sc_stock_19 = sc_stock[sc_stock['Year']=='2019']\n",
    "sc_stock_19.reset_index(drop=True, inplace=True)\n",
    "sc_stock_20 = sc_stock[sc_stock['Year']=='2020']\n",
    "sc_stock_20.reset_index(drop=True, inplace=True)\n",
    "sc_stock_21 = sc_stock[sc_stock['Year']=='2021']\n",
    "sc_stock_21.reset_index(drop=True, inplace=True)\n",
    "sc_stock_22= sc_stock[sc_stock['Year']=='2022']\n",
    "sc_stock_22.reset_index(drop=True, inplace=True)"
   ]
  },
  {
   "cell_type": "code",
   "execution_count": 18,
   "id": "54a6d85f",
   "metadata": {},
   "outputs": [],
   "source": [
    "sc_yc = pd.DataFrame()"
   ]
  },
  {
   "cell_type": "code",
   "execution_count": 19,
   "id": "97900380",
   "metadata": {},
   "outputs": [],
   "source": [
    "sc_yc['Year']= ['2017', '2018', '2019', '2020', '2021', '2022']"
   ]
  },
  {
   "cell_type": "code",
   "execution_count": 20,
   "id": "67ea8daf",
   "metadata": {},
   "outputs": [],
   "source": [
    "yearly_change = []\n",
    "for df in (sc_stock_17, sc_stock_18, sc_stock_19, sc_stock_20, sc_stock_21, sc_stock_22):\n",
    "    last_row = df.iloc[-1]\n",
    "    first_row = df.iloc[0]\n",
    "    yearly_change.append(last_row['Adj Close'] - first_row['Open'])\n",
    "\n",
    "sc_yc['Yearly_Change'] = yearly_change"
   ]
  },
  {
   "cell_type": "code",
   "execution_count": 21,
   "id": "25a3c375",
   "metadata": {},
   "outputs": [],
   "source": [
    "pin_stocks = []\n",
    "pin_stock_19 = pin_stock[pin_stock['Year']=='2019']\n",
    "pin_stock_19.reset_index(drop=True, inplace=True)\n",
    "pin_stock_20 = pin_stock[pin_stock['Year']=='2020']\n",
    "pin_stock_20.reset_index(drop=True, inplace=True)\n",
    "pin_stock_21 = pin_stock[pin_stock['Year']=='2021']\n",
    "pin_stock_21.reset_index(drop=True, inplace=True)\n",
    "pin_stock_22 = pin_stock[pin_stock['Year']=='2022']\n",
    "pin_stock_22.reset_index(drop=True, inplace=True)\n",
    "pin_stocks.append(pin_stock_19)\n",
    "pin_stocks.append(pin_stock_20)\n",
    "pin_stocks.append(pin_stock_21)\n",
    "pin_stocks.append(pin_stock_22)\n",
    "fb_stocks = []\n",
    "fb_year = ['2012', '2013', '2014', '2015', '2016', '2017', '2018', '2019', '2020', '2021', '2022']\n",
    "tw_stocks = []\n",
    "tw_year = ['2013', '2014', '2015', '2016', '2017', '2018', '2019', '2020', '2021', '2022']\n",
    "et_stocks = []\n",
    "et_year = ['2015', '2016', '2017', '2018', '2019', '2020', '2021', '2022']\n",
    "\n",
    "# list of Facebook dataframes by year\n",
    "fb_stock_12 = fb_stock[fb_stock['Year']=='2012']\n",
    "fb_stock_12.reset_index(drop=True, inplace=True)\n",
    "fb_stock_13 = fb_stock[fb_stock['Year']=='2013']\n",
    "fb_stock_13.reset_index(drop=True, inplace=True)\n",
    "fb_stock_14 = fb_stock[fb_stock['Year']=='2014']\n",
    "fb_stock_14.reset_index(drop=True, inplace=True)\n",
    "fb_stock_15 = fb_stock[fb_stock['Year']=='2015']\n",
    "fb_stock_15.reset_index(drop=True, inplace=True)\n",
    "fb_stock_16 = fb_stock[fb_stock['Year']=='2016']\n",
    "fb_stock_16.reset_index(drop=True, inplace=True)\n",
    "fb_stock_17 = fb_stock[fb_stock['Year']=='2017']\n",
    "fb_stock_17.reset_index(drop=True, inplace=True)\n",
    "fb_stock_18 = fb_stock[fb_stock['Year']=='2018']\n",
    "fb_stock_18.reset_index(drop=True, inplace=True)\n",
    "fb_stock_19 = fb_stock[fb_stock['Year']=='2019']\n",
    "fb_stock_19.reset_index(drop=True, inplace=True)\n",
    "fb_stock_20 = fb_stock[fb_stock['Year']=='2020']\n",
    "fb_stock_20.reset_index(drop=True, inplace=True)\n",
    "fb_stock_21 = fb_stock[fb_stock['Year']=='2021']\n",
    "fb_stock_21.reset_index(drop=True, inplace=True)\n",
    "fb_stock_22 = fb_stock[fb_stock['Year']=='2022']\n",
    "fb_stock_22.reset_index(drop=True, inplace=True)\n",
    "fb_stocks.append(fb_stock_12)\n",
    "fb_stocks.append(fb_stock_13)\n",
    "fb_stocks.append(fb_stock_14)\n",
    "fb_stocks.append(fb_stock_15)\n",
    "fb_stocks.append(fb_stock_16)\n",
    "fb_stocks.append(fb_stock_17)\n",
    "fb_stocks.append(fb_stock_18)\n",
    "fb_stocks.append(fb_stock_19)\n",
    "fb_stocks.append(fb_stock_20)\n",
    "fb_stocks.append(fb_stock_21)\n",
    "fb_stocks.append(fb_stock_22)\n",
    "\n",
    "#list of Twitter dataframes by year\n",
    "tw_stock_13 = tw_stock[tw_stock['Year']=='2013']\n",
    "tw_stock_13.reset_index(drop=True, inplace=True)\n",
    "tw_stock_14 = tw_stock[tw_stock['Year']=='2014']\n",
    "tw_stock_14.reset_index(drop=True, inplace=True)\n",
    "tw_stock_15 = tw_stock[tw_stock['Year']=='2015']\n",
    "tw_stock_15.reset_index(drop=True, inplace=True)\n",
    "tw_stock_16 = tw_stock[tw_stock['Year']=='2016']\n",
    "tw_stock_16.reset_index(drop=True, inplace=True)\n",
    "tw_stock_17 = tw_stock[tw_stock['Year']=='2017']\n",
    "tw_stock_17.reset_index(drop=True, inplace=True)\n",
    "tw_stock_18 = tw_stock[tw_stock['Year']=='2018']\n",
    "tw_stock_18.reset_index(drop=True, inplace=True)\n",
    "tw_stock_19 = tw_stock[tw_stock['Year']=='2019']\n",
    "tw_stock_19.reset_index(drop=True, inplace=True)\n",
    "tw_stock_20 = tw_stock[tw_stock['Year']=='2020']\n",
    "tw_stock_20.reset_index(drop=True, inplace=True)\n",
    "tw_stock_21 = tw_stock[tw_stock['Year']=='2021']\n",
    "tw_stock_21.reset_index(drop=True, inplace=True)\n",
    "tw_stock_22 = tw_stock[tw_stock['Year']=='2022']\n",
    "tw_stock_22.reset_index(drop=True, inplace=True)\n",
    "tw_stocks.append(tw_stock_13)\n",
    "tw_stocks.append(tw_stock_14)\n",
    "tw_stocks.append(tw_stock_15)\n",
    "tw_stocks.append(tw_stock_16)\n",
    "tw_stocks.append(tw_stock_17)\n",
    "tw_stocks.append(tw_stock_18)\n",
    "tw_stocks.append(tw_stock_19)\n",
    "tw_stocks.append(tw_stock_20)\n",
    "tw_stocks.append(tw_stock_21)\n",
    "tw_stocks.append(tw_stock_22)\n",
    "\n",
    "#list of Etsy dataframes by year\n",
    "et_stock_15 = et_stock[et_stock['Year']=='2015']\n",
    "et_stock_15.reset_index(drop=True, inplace=True)\n",
    "et_stock_16 = et_stock[et_stock['Year']=='2016']\n",
    "et_stock_16.reset_index(drop=True, inplace=True)\n",
    "et_stock_17 = et_stock[et_stock['Year']=='2017']\n",
    "et_stock_17.reset_index(drop=True, inplace=True)\n",
    "et_stock_18 = et_stock[et_stock['Year']=='2018']\n",
    "et_stock_18.reset_index(drop=True, inplace=True)\n",
    "et_stock_19 = et_stock[et_stock['Year']=='2019']\n",
    "et_stock_19.reset_index(drop=True, inplace=True)\n",
    "et_stock_20 = et_stock[et_stock['Year']=='2020']\n",
    "et_stock_20.reset_index(drop=True, inplace=True)\n",
    "et_stock_21 = et_stock[et_stock['Year']=='2021']\n",
    "et_stock_21.reset_index(drop=True, inplace=True)\n",
    "et_stock_22 = et_stock[et_stock['Year']=='2022']\n",
    "et_stock_22.reset_index(drop=True, inplace=True)\n",
    "et_stocks.append(et_stock_15)\n",
    "et_stocks.append(et_stock_16)\n",
    "et_stocks.append(et_stock_17)\n",
    "et_stocks.append(et_stock_18)\n",
    "et_stocks.append(et_stock_19)\n",
    "et_stocks.append(et_stock_20)\n",
    "et_stocks.append(et_stock_21)\n",
    "et_stocks.append(et_stock_22)"
   ]
  },
  {
   "cell_type": "code",
   "execution_count": 22,
   "id": "c31a4bf6",
   "metadata": {},
   "outputs": [],
   "source": [
    "yearly_change = []\n",
    "for df in tw_stocks:\n",
    "    last_row = df.iloc[-1]\n",
    "    first_row = df.iloc[0]\n",
    "    yearly_change.append(last_row['Adj Close'] - first_row['Open'])\n",
    "\n",
    "tw_yc = pd.DataFrame()\n",
    "tw_yc['Year'] = tw_year\n",
    "tw_yc['Yearly_Change'] = yearly_change"
   ]
  },
  {
   "cell_type": "code",
   "execution_count": 23,
   "id": "f8b3febb",
   "metadata": {},
   "outputs": [],
   "source": [
    "yearly_change = []\n",
    "for df in fb_stocks:\n",
    "    last_row = df.iloc[-1]\n",
    "    first_row = df.iloc[0]\n",
    "    yearly_change.append(last_row['Adj Close'] - first_row['Open'])\n",
    "\n",
    "fb_yc = pd.DataFrame()\n",
    "fb_yc['Year'] = fb_year\n",
    "fb_yc['Yearly_Change'] = yearly_change"
   ]
  },
  {
   "cell_type": "code",
   "execution_count": 24,
   "id": "80a120e0",
   "metadata": {},
   "outputs": [],
   "source": [
    "yearly_change = []\n",
    "for df in et_stocks:\n",
    "    last_row = df.iloc[-1]\n",
    "    first_row = df.iloc[0]\n",
    "    yearly_change.append(last_row['Adj Close'] - first_row['Open'])\n",
    "\n",
    "et_yc = pd.DataFrame()\n",
    "et_yc['Year'] = et_year\n",
    "et_yc['Yearly_Change'] = yearly_change"
   ]
  },
  {
   "cell_type": "code",
   "execution_count": 25,
   "id": "73dbaaf7",
   "metadata": {},
   "outputs": [],
   "source": [
    "yearly_change = []\n",
    "pin_year = ['2019', '2020', '2021', '2022']\n",
    "for df in pin_stocks:\n",
    "    last_row = df.iloc[-1]\n",
    "    first_row = df.iloc[0]\n",
    "    yearly_change.append(last_row['Adj Close'] - first_row['Open'])\n",
    "\n",
    "pin_yc = pd.DataFrame()\n",
    "pin_yc['Year'] = pin_year\n",
    "pin_yc['Yearly_Change'] = yearly_change"
   ]
  },
  {
   "cell_type": "code",
   "execution_count": 26,
   "id": "39c3c644",
   "metadata": {},
   "outputs": [],
   "source": [
    "et_yc.insert(0,'Ticker','')\n",
    "et_yc['Ticker'] = 'ETSY'"
   ]
  },
  {
   "cell_type": "code",
   "execution_count": 27,
   "id": "ab348aeb",
   "metadata": {},
   "outputs": [],
   "source": [
    "tw_yc.insert(0,'Ticker','')\n",
    "tw_yc['Ticker'] = 'TWITTER'"
   ]
  },
  {
   "cell_type": "code",
   "execution_count": 28,
   "id": "ab9eff8d",
   "metadata": {},
   "outputs": [],
   "source": [
    "fb_yc.insert(0,'Ticker','')\n",
    "fb_yc['Ticker'] = 'FACEBOOK'"
   ]
  },
  {
   "cell_type": "code",
   "execution_count": 29,
   "id": "336c7ac3",
   "metadata": {},
   "outputs": [],
   "source": [
    "pin_yc.insert(0,'Ticker','')\n",
    "pin_yc['Ticker'] = 'PINTEREST'"
   ]
  },
  {
   "cell_type": "code",
   "execution_count": 30,
   "id": "bd0c7353",
   "metadata": {},
   "outputs": [],
   "source": [
    "sc_yc.insert(0,'Ticker','')\n",
    "sc_yc['Ticker'] = 'SNAPCHAT'"
   ]
  },
  {
   "cell_type": "code",
   "execution_count": 31,
   "id": "a985961b",
   "metadata": {},
   "outputs": [],
   "source": [
    "et_yc.loc[len(df.index)] = ['ETSY', '2012', 0]"
   ]
  },
  {
   "cell_type": "code",
   "execution_count": 32,
   "id": "103d4337",
   "metadata": {},
   "outputs": [],
   "source": [
    "et_yc = et_yc.sort_values(['Year'],\n",
    "              ascending = True)\n",
    "et_yc.reset_index(drop=True, inplace=True)"
   ]
  },
  {
   "cell_type": "code",
   "execution_count": 33,
   "id": "498b92d8",
   "metadata": {},
   "outputs": [],
   "source": [
    "et_yc.loc[len(df.index)] = ['ETSY', '2013', 0]\n",
    "\n",
    "\n",
    "et_yc = et_yc.sort_values(['Year'],\n",
    "              ascending = True)\n",
    "et_yc.reset_index(drop=True, inplace=True)"
   ]
  },
  {
   "cell_type": "code",
   "execution_count": 34,
   "id": "f04b8b80",
   "metadata": {},
   "outputs": [],
   "source": [
    "et_yc.loc[len(df.index)] = ['ETSY', '2014', 0]\n",
    "\n",
    "et_yc = et_yc.sort_values(['Year'],\n",
    "              ascending = True)\n",
    "et_yc.reset_index(drop=True, inplace=True)"
   ]
  },
  {
   "cell_type": "code",
   "execution_count": 35,
   "id": "84b46e1b",
   "metadata": {},
   "outputs": [],
   "source": [
    "pin_yc.loc[len(df.index)] = ['PINTEREST', '2012', 0]\n",
    "\n",
    "pin_yc = pin_yc.sort_values(['Year'],\n",
    "              ascending = True)\n",
    "pin_yc.reset_index(drop=True, inplace=True)"
   ]
  },
  {
   "cell_type": "code",
   "execution_count": 36,
   "id": "7b711697",
   "metadata": {},
   "outputs": [],
   "source": [
    "pin_yc.loc[len(df.index)] = ['PINTEREST', '2013', 0]\n",
    "\n",
    "pin_yc = pin_yc.sort_values(['Year'],\n",
    "              ascending = True)\n",
    "pin_yc.reset_index(drop=True, inplace=True)"
   ]
  },
  {
   "cell_type": "code",
   "execution_count": 37,
   "id": "95cf9873",
   "metadata": {},
   "outputs": [],
   "source": [
    "pin_yc.loc[len(df.index)] = ['PINTEREST', '2014', 0]\n",
    "\n",
    "pin_yc = pin_yc.sort_values(['Year'],\n",
    "              ascending = True)\n",
    "pin_yc.reset_index(drop=True, inplace=True)"
   ]
  },
  {
   "cell_type": "code",
   "execution_count": 38,
   "id": "3aadd725",
   "metadata": {},
   "outputs": [],
   "source": [
    "pin_yc.loc[len(df.index)] = ['PINTEREST', '2015', 0]\n",
    "\n",
    "pin_yc = pin_yc.sort_values(['Year'],\n",
    "              ascending = True)\n",
    "pin_yc.reset_index(drop=True, inplace=True)"
   ]
  },
  {
   "cell_type": "code",
   "execution_count": 39,
   "id": "bfe87277",
   "metadata": {},
   "outputs": [],
   "source": [
    "pin_yc.loc[len(df.index)] = ['PINTEREST', '2016', 0]\n",
    "\n",
    "pin_yc = pin_yc.sort_values(['Year'],\n",
    "              ascending = True)\n",
    "pin_yc.reset_index(drop=True, inplace=True)"
   ]
  },
  {
   "cell_type": "code",
   "execution_count": 40,
   "id": "b7a06e37",
   "metadata": {},
   "outputs": [],
   "source": [
    "pin_yc.loc[len(df.index)] = ['PINTEREST', '2017', 0]\n",
    "\n",
    "pin_yc = pin_yc.sort_values(['Year'],\n",
    "              ascending = True)\n",
    "pin_yc.reset_index(drop=True, inplace=True)"
   ]
  },
  {
   "cell_type": "code",
   "execution_count": 41,
   "id": "be52a48d",
   "metadata": {},
   "outputs": [],
   "source": [
    "pin_yc.loc[len(df.index)] = ['PINTEREST', '2018', 0]\n",
    "\n",
    "pin_yc = pin_yc.sort_values(['Year'],\n",
    "              ascending = True)\n",
    "pin_yc.reset_index(drop=True, inplace=True)"
   ]
  },
  {
   "cell_type": "code",
   "execution_count": 42,
   "id": "482dea1d",
   "metadata": {},
   "outputs": [],
   "source": [
    "tw_yc.loc[len(df.index)] = ['TWITTER', '2012', 0]\n",
    "\n",
    "tw_yc = tw_yc.sort_values(['Year'],\n",
    "              ascending = True)\n",
    "tw_yc.reset_index(drop=True, inplace=True)"
   ]
  },
  {
   "cell_type": "code",
   "execution_count": 43,
   "id": "c17cf902",
   "metadata": {},
   "outputs": [],
   "source": [
    "sc_yc.loc[len(df.index)] = ['SNAPCHAT', '2012', 0]\n",
    "\n",
    "sc_yc = sc_yc.sort_values(['Year'],\n",
    "              ascending = True)\n",
    "sc_yc.reset_index(drop=True, inplace=True)"
   ]
  },
  {
   "cell_type": "code",
   "execution_count": 44,
   "id": "a2d1d4a8",
   "metadata": {},
   "outputs": [],
   "source": [
    "sc_yc.loc[len(df.index)] = ['SNAPCHAT', '2013', 0]\n",
    "\n",
    "sc_yc = sc_yc.sort_values(['Year'],\n",
    "              ascending = True)\n",
    "sc_yc.reset_index(drop=True, inplace=True)"
   ]
  },
  {
   "cell_type": "code",
   "execution_count": 45,
   "id": "934f8b72",
   "metadata": {},
   "outputs": [],
   "source": [
    "sc_yc.loc[len(df.index)] = ['SNAPCHAT', '2014', 0]\n",
    "\n",
    "sc_yc = sc_yc.sort_values(['Year'],\n",
    "              ascending = True)\n",
    "sc_yc.reset_index(drop=True, inplace=True)"
   ]
  },
  {
   "cell_type": "code",
   "execution_count": 46,
   "id": "13567f09",
   "metadata": {},
   "outputs": [],
   "source": [
    "sc_yc.loc[len(df.index)] = ['SNAPCHAT', '2015', 0]\n",
    "\n",
    "sc_yc = sc_yc.sort_values(['Year'],\n",
    "              ascending = True)\n",
    "sc_yc.reset_index(drop=True, inplace=True)"
   ]
  },
  {
   "cell_type": "code",
   "execution_count": 47,
   "id": "e8c28565",
   "metadata": {},
   "outputs": [],
   "source": [
    "sc_yc.loc[len(df.index)] = ['SNAPCHAT', '2016', 0]\n",
    "\n",
    "sc_yc = sc_yc.sort_values(['Year'],\n",
    "              ascending = True)\n",
    "sc_yc.reset_index(drop=True, inplace=True)"
   ]
  },
  {
   "cell_type": "code",
   "execution_count": 49,
   "id": "3318a28b",
   "metadata": {},
   "outputs": [
    {
     "data": {
      "image/png": "[encoded data removed]",
      "text/plain": [
       "<Figure size 500x1000 with 5 Axes>"
      ]
     },
     "metadata": {},
     "output_type": "display_data"
    }
   ],
   "source": [
    "tw =[value for value in tw_yc['Yearly_Change']]\n",
    "sc =[value for value in sc_yc['Yearly_Change']]\n",
    "pin = [value for value in pin_yc['Yearly_Change']]\n",
    "et = [value for value in et_yc['Yearly_Change']]\n",
    "fb = [value for value in fb_yc['Yearly_Change']]\n",
    "\n",
    "Ticker = ['TWITTER', 'SNAPCHAT', 'PINTEREST', 'ETSY', 'FACEBOOK']\n",
    "\n",
    "index = [year for year in fb_yc['Year']]\n",
    "df = pd.DataFrame({'TWITTER': tw,'SNAPCHAT': sc,'PINTEREST': pin,'ETSY': et,'FACEBOOK': fb,}, index=index)\n",
    "ax = df.plot.bar(title = \"Social Media Yearly Stock Change\", figsize = (5, 10), rot=45, width = 1, subplots=True, \n",
    "                 color={\"TWITTER\": \"lightblue\", \"SNAPCHAT\": \"yellow\", \"PINTEREST\": \"red\", \"ETSY\": \"orange\", \"FACEBOOK\": \"blue\" },\n",
    "                 legend = None)\n",
    "\n",
    "plt.rcParams['axes.facecolor'] = 'black'\n",
    "\n",
    "plt.savefig('yearly_change.png')\n"
   ]
  },
  {
   "cell_type": "code",
   "execution_count": null,
   "id": "590551b7",
   "metadata": {},
   "outputs": [],
   "source": [
    "# Twitter, Snapchat, Etsy, and Pinterest had significant yearly stock change from 2019 to 2020 and then drops again in 2021\n",
    "# Twitter   2019 +3.80  : 2020 +21.84  : 2021 -11.27\n",
    "# Snapchat  2019 +10.95 : 2020 +33.45  : 2021 -3.41\n",
    "# Etsy      2019 -1.93  : 2020 +133.20 : 2021 +39.42\n",
    "# Pinterest 2019 -5.11  : 2020 +47.10  : 2021 -29.65"
   ]
  }
 ],
 "metadata": {
  "kernelspec": {
   "display_name": "Python 3 (ipykernel)",
   "language": "python",
   "name": "python3"
  },
  "language_info": {
   "codemirror_mode": {
    "name": "ipython",
    "version": 3
   },
   "file_extension": ".py",
   "mimetype": "text/x-python",
   "name": "python",
   "nbconvert_exporter": "python",
   "pygments_lexer": "ipython3",
   "version": "3.9.13"
  }
 },
 "nbformat": 4,
 "nbformat_minor": 5
}
