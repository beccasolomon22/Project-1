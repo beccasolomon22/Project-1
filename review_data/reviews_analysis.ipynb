{
 "cells": [
  {
   "cell_type": "code",
   "execution_count": null,
   "id": "7babe61b",
   "metadata": {},
   "outputs": [],
   "source": [
    "import requests\n",
    "import json\n",
    "import pandas as pd\n",
    "import matplotlib.pyplot as plt\n",
    "import scipy.stats as st\n",
    "import numpy as np"
   ]
  },
  {
   "cell_type": "code",
   "execution_count": null,
   "id": "9e3402d7",
   "metadata": {},
   "outputs": [],
   "source": [
    "#read csv of reviews from 2022\n",
    "tiktok_rv = pd.read_csv(\"../Resources/tiktok_google_play_reviews.csv\", low_memory = False)\n",
    "tiktok_rv2 = pd.read_csv(\"../Resources/tiktok_app_reviews.csv\", low_memory = False)"
   ]
  },
  {
   "cell_type": "code",
   "execution_count": null,
   "id": "acd2b925",
   "metadata": {},
   "outputs": [],
   "source": [
    "#create new columns with date and time separate as well as year\n",
    "tiktok_rv2['Dates'] = pd.to_datetime(tiktok_rv2['posted_date']).dt.date\n",
    "tiktok_rv2['Time'] = pd.to_datetime(tiktok_rv2['posted_date']).dt.time\n",
    "tiktok_rv2['Year'] = pd.to_datetime(tiktok_rv2['posted_date']).dt.strftime('%Y')"
   ]
  },
  {
   "cell_type": "code",
   "execution_count": null,
   "id": "671c2c07",
   "metadata": {},
   "outputs": [],
   "source": [
    "#create new columns with date and time separate as well as year\n",
    "tiktok_rv['Dates'] = pd.to_datetime(tiktok_rv['at']).dt.date\n",
    "tiktok_rv['Time'] = pd.to_datetime(tiktok_rv['at']).dt.time\n",
    "tiktok_rv['Year'] = pd.to_datetime(tiktok_rv['at']).dt.strftime('%Y')"
   ]
  },
  {
   "cell_type": "code",
   "execution_count": null,
   "id": "4f4d632d",
   "metadata": {},
   "outputs": [],
   "source": [
    "tiktok_15_21 = tiktok_rv2[['review_id','Year']].copy()"
   ]
  },
  {
   "cell_type": "code",
   "execution_count": null,
   "id": "73a8e34f",
   "metadata": {},
   "outputs": [],
   "source": [
    "tiktok_22 = tiktok_rv[['reviewId','Year']].copy()"
   ]
  },
  {
   "cell_type": "code",
   "execution_count": null,
   "id": "94137fb4",
   "metadata": {},
   "outputs": [],
   "source": [
    "tiktok_15_21 = tiktok_15_21.rename(columns={\"review_id\": \"rvID\"})"
   ]
  },
  {
   "cell_type": "code",
   "execution_count": null,
   "id": "63d97e46",
   "metadata": {},
   "outputs": [],
   "source": [
    "tiktok_22 = tiktok_22.rename(columns={\"reviewId\": \"rvID\"})"
   ]
  },
  {
   "cell_type": "code",
   "execution_count": null,
   "id": "82b482c8",
   "metadata": {},
   "outputs": [],
   "source": [
    "df2 = pd.concat([tiktok_15_21, tiktok_22])"
   ]
  },
  {
   "cell_type": "code",
   "execution_count": null,
   "id": "189ebc8c",
   "metadata": {},
   "outputs": [],
   "source": [
    "df2 = df2.sort_values(['Year'],\n",
    "              ascending = True)"
   ]
  },
  {
   "cell_type": "code",
   "execution_count": null,
   "id": "e70342d4",
   "metadata": {},
   "outputs": [],
   "source": [
    "df2['Year'].value_counts().sort_index()"
   ]
  },
  {
   "cell_type": "code",
   "execution_count": null,
   "id": "c112476f",
   "metadata": {},
   "outputs": [],
   "source": [
    "ax = df2['Year'].value_counts().sort_index().plot(kind='bar',\n",
    "                                    figsize=(14,8),\n",
    "                                    color = ['red', 'red', 'red', 'blue', 'green', 'green', 'blue', 'blue'],\n",
    "                                    rot = 45)\n",
    "ax.set_xlabel(\"Year\", fontsize=15)\n",
    "ax.set_ylabel(\"Tiktok Number of Reviews (in millions)\", fontsize=15)\n",
    "ax.set_title(\"Tiktok Number for Reviews per Year\", fontsize=20)\n",
    "ax.set_facecolor('black')\n",
    "\n",
    "ax.figure.savefig('rv_per_year.png')\n"
   ]
  },
  {
   "cell_type": "code",
   "execution_count": null,
   "id": "c05c789d",
   "metadata": {},
   "outputs": [],
   "source": [
    "#there is a clear spike in 2019 and 2020 in tiktok reviews \n",
    "#then begins to dip down again once more people start leaving their homes"
   ]
  }
 ],
 "metadata": {
  "kernelspec": {
   "display_name": "Python 3 (ipykernel)",
   "language": "python",
   "name": "python3"
  },
  "language_info": {
   "codemirror_mode": {
    "name": "ipython",
    "version": 3
   },
   "file_extension": ".py",
   "mimetype": "text/x-python",
   "name": "python",
   "nbconvert_exporter": "python",
   "pygments_lexer": "ipython3",
   "version": "3.9.13"
  }
 },
 "nbformat": 4,
 "nbformat_minor": 5
}
